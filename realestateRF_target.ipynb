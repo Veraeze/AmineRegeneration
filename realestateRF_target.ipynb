{
  "nbformat": 4,
  "nbformat_minor": 0,
  "metadata": {
    "colab": {
      "provenance": [],
      "authorship_tag": "ABX9TyNZ/sqiuoUXTpAH0E79NuQv",
      "include_colab_link": true
    },
    "kernelspec": {
      "name": "python3",
      "display_name": "Python 3"
    },
    "language_info": {
      "name": "python"
    }
  },
  "cells": [
    {
      "cell_type": "markdown",
      "metadata": {
        "id": "view-in-github",
        "colab_type": "text"
      },
      "source": [
        "<a href=\"https://colab.research.google.com/github/Veraeze/AmineRegeneration/blob/main/realestateRF_target.ipynb\" target=\"_parent\"><img src=\"https://colab.research.google.com/assets/colab-badge.svg\" alt=\"Open In Colab\"/></a>"
      ]
    },
    {
      "cell_type": "code",
      "execution_count": null,
      "metadata": {
        "id": "0NjPGtYfY8r7"
      },
      "outputs": [],
      "source": [
        "# Install required libraries (if needed)\n",
        "!pip install pandas numpy matplotlib seaborn xgboost\n",
        "!pip install -U scikit-learn\n"
      ]
    },
    {
      "cell_type": "code",
      "source": [
        "# --- Imports ---\n",
        "import pandas as pd\n",
        "import numpy as np\n",
        "import matplotlib.pyplot as plt\n",
        "import seaborn as sns\n",
        "import joblib\n",
        "import os\n",
        "\n",
        "from google.colab import drive\n",
        "from sklearn.model_selection import train_test_split, KFold, cross_val_score\n",
        "from sklearn.preprocessing import StandardScaler, OneHotEncoder\n",
        "from sklearn.metrics import mean_squared_error, mean_absolute_error, r2_score\n",
        "from sklearn.ensemble import RandomForestRegressor\n",
        "from sklearn.compose import ColumnTransformer\n",
        "from sklearn.pipeline import Pipeline\n",
        "\n",
        "%matplotlib inline"
      ],
      "metadata": {
        "id": "8W4zsnWHZ1QZ"
      },
      "execution_count": null,
      "outputs": []
    },
    {
      "cell_type": "code",
      "source": [
        "#  Mount google drive\n",
        "\n",
        "drive.mount('/content/drive')"
      ],
      "metadata": {
        "colab": {
          "base_uri": "https://localhost:8080/"
        },
        "id": "MDYSS2BPkidj",
        "outputId": "63cc6b66-859e-44a2-c939-33b9be6c273e"
      },
      "execution_count": null,
      "outputs": [
        {
          "output_type": "stream",
          "name": "stdout",
          "text": [
            "Mounted at /content/drive\n"
          ]
        }
      ]
    },
    {
      "cell_type": "markdown",
      "source": [
        "# Real Estate Price Prediction in Nigeria\n",
        "\n",
        "**Objective:**  \n",
        "Predict property prices in Nigeria using machine learning models based on features such as number of bedrooms, bathrooms, toilets, parking space, property type, town, and state.\n",
        "\n",
        "---\n",
        "\n",
        "## Dataset\n",
        "- **Source:** Nigerian Houses Listings Dataset  \n",
        "- **Rows:** 24,326  \n",
        "- **Columns (Features):**  \n",
        "  - `bedrooms` → Number of bedrooms  \n",
        "  - `bathrooms` → Number of bathrooms  \n",
        "  - `toilets` → Number of toilets  \n",
        "  - `parking_space` → Parking availability  \n",
        "  - `title` → Property type (e.g., apartment, duplex)  \n",
        "  - `town` → Town or city  \n",
        "  - `state` → Nigerian state  \n",
        "- **Target Column:** `price` → Numeric property price"
      ],
      "metadata": {
        "id": "oDpGjNmkbZot"
      }
    },
    {
      "cell_type": "code",
      "source": [
        "# =========================\n",
        "# 1. Load Dataset\n",
        "# =========================\n",
        "file_path = '/content/drive/MyDrive/MLDatasets/nigeria_houses_data.csv'\n",
        "df = pd.read_csv(file_path)\n",
        "\n",
        "# Create folder for saving charts\n",
        "os.makedirs(\"assets/realestate/eda\", exist_ok=True)\n",
        "\n",
        "print(\"Dataset Shape:\", df.shape)\n",
        "print(\"\\nFirst 5 rows:\\n\", df.head())\n"
      ],
      "metadata": {
        "colab": {
          "base_uri": "https://localhost:8080/"
        },
        "id": "PrYS_Hr2ktO2",
        "outputId": "0e8ca4f8-8319-4b17-f4d0-558760bed968"
      },
      "execution_count": null,
      "outputs": [
        {
          "output_type": "stream",
          "name": "stdout",
          "text": [
            "Dataset Shape: (24326, 8)\n",
            "\n",
            "First 5 rows:\n",
            "    bedrooms  bathrooms  toilets  parking_space                 title     town  \\\n",
            "0       6.0        5.0      5.0            4.0       Detached Duplex  Mabushi   \n",
            "1       4.0        5.0      5.0            4.0     Terraced Duplexes  Katampe   \n",
            "2       4.0        5.0      5.0            4.0       Detached Duplex    Lekki   \n",
            "3       4.0        4.0      5.0            6.0       Detached Duplex     Ajah   \n",
            "4       4.0        4.0      5.0            2.0  Semi Detached Duplex    Lekki   \n",
            "\n",
            "   state        price  \n",
            "0  Abuja  450000000.0  \n",
            "1  Abuja  800000000.0  \n",
            "2  Lagos  120000000.0  \n",
            "3  Lagos   40000000.0  \n",
            "4  Lagos   75000000.0  \n"
          ]
        }
      ]
    },
    {
      "cell_type": "markdown",
      "source": [
        "### Data Preprocessing\n",
        "- Handle missing values by removing or imputing them.\n",
        "- Encode categorical features (`title`, `town`, `state`) using one-hot encoding.\n",
        "- Scale numerical features (`bedrooms`, `bathrooms`, `toilets`, `parking_space`) if necessary."
      ],
      "metadata": {
        "id": "AoY5C72hbGL1"
      }
    },
    {
      "cell_type": "code",
      "source": [
        "# =========================\n",
        "# Check for Missing Values & Duplicates\n",
        "# =========================\n",
        "print(\"\\nMissing Values:\\n\", df.isnull().sum())\n",
        "print(\"\\nDuplicate Rows:\", df.duplicated().sum())"
      ],
      "metadata": {
        "colab": {
          "base_uri": "https://localhost:8080/"
        },
        "id": "TrxyMluclJsr",
        "outputId": "ac4bd5d8-5905-41b5-f339-f20529c467bc"
      },
      "execution_count": null,
      "outputs": [
        {
          "output_type": "stream",
          "name": "stdout",
          "text": [
            "\n",
            "Missing Values:\n",
            " bedrooms         0\n",
            "bathrooms        0\n",
            "toilets          0\n",
            "parking_space    0\n",
            "title            0\n",
            "town             0\n",
            "state            0\n",
            "price            0\n",
            "dtype: int64\n",
            "\n",
            "Duplicate Rows: 10438\n"
          ]
        }
      ]
    },
    {
      "cell_type": "code",
      "source": [
        "# Drop duplicate rows\n",
        "df = df.drop_duplicates()\n",
        "\n",
        "# Confirm removal\n",
        "print(\"After removing duplicates:\", df.shape)\n",
        "print(\"Remaining duplicate rows:\", df.duplicated().sum())"
      ],
      "metadata": {
        "colab": {
          "base_uri": "https://localhost:8080/"
        },
        "id": "Vl8Krlt7VP37",
        "outputId": "7096d99d-41db-4dff-9eff-c8915f9bc712"
      },
      "execution_count": null,
      "outputs": [
        {
          "output_type": "stream",
          "name": "stdout",
          "text": [
            "After removing duplicates: (13888, 9)\n"
          ]
        }
      ]
    },
    {
      "cell_type": "code",
      "source": [
        "# =========================\n",
        "# Summary Statistics\n",
        "# =========================\n",
        "print(\"\\nSummary Statistics:\\n\", df.describe())"
      ],
      "metadata": {
        "colab": {
          "base_uri": "https://localhost:8080/"
        },
        "id": "gvD5l3auk3xD",
        "outputId": "7f0cbce8-dd6d-404f-b909-3515c46933a2"
      },
      "execution_count": null,
      "outputs": [
        {
          "output_type": "stream",
          "name": "stdout",
          "text": [
            "\n",
            "Summary Statistics:\n",
            "            bedrooms     bathrooms       toilets  parking_space         price\n",
            "count  24326.000000  24326.000000  24326.000000   24326.000000  2.432600e+04\n",
            "mean       4.338814      4.600798      5.176355       4.041725  3.013802e+08\n",
            "std        1.138497      1.163161      1.226253       1.399936  1.220403e+10\n",
            "min        1.000000      1.000000      1.000000       1.000000  9.000000e+04\n",
            "25%        4.000000      4.000000      5.000000       4.000000  5.200000e+07\n",
            "50%        4.000000      5.000000      5.000000       4.000000  8.500000e+07\n",
            "75%        5.000000      5.000000      6.000000       4.000000  1.600000e+08\n",
            "max        9.000000      9.000000      9.000000       9.000000  1.800000e+12\n"
          ]
        }
      ]
    },
    {
      "cell_type": "markdown",
      "source": [
        "###  Exploratory Data Analysis (EDA)\n",
        "- Visualize distribution of property prices.\n",
        "- Analyze relationships between features and the target price.\n",
        "- Identify key features that influence price using correlation analysis."
      ],
      "metadata": {
        "id": "a4wJ1IfYasJF"
      }
    },
    {
      "cell_type": "code",
      "source": [
        "# =========================\n",
        "# Price Distribution\n",
        "# =========================\n",
        "plt.figure(figsize=(15,10))\n",
        "sns.histplot(df[\"price\"], bins=50, kde=True)\n",
        "plt.title(\"Price Distribution\")\n",
        "plt.xlabel(\"Price (₦)\")\n",
        "plt.ylabel(\"Count\")\n",
        "plt.savefig(\"assets/realestate/eda/price_distribution.png\")\n",
        "plt.close()\n",
        "\n",
        "# Log-transformed price (to handle skewness)\n",
        "df[\"log_price\"] = np.log1p(df[\"price\"])\n",
        "plt.figure(figsize=(15,10))\n",
        "sns.histplot(df[\"log_price\"], bins=50, kde=True, color=\"orange\")\n",
        "plt.title(\"Log-Transformed Price Distribution\")\n",
        "plt.xlabel(\"Log Price\")\n",
        "plt.ylabel(\"Count\")\n",
        "plt.savefig(\"assets/realestate/eda/log_price_distribution.png\")\n",
        "plt.close()"
      ],
      "metadata": {
        "id": "vmd9ST08lcTU"
      },
      "execution_count": null,
      "outputs": []
    }
  ]
}